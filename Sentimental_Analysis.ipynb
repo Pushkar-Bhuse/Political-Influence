{
  "nbformat": 4,
  "nbformat_minor": 0,
  "metadata": {
    "colab": {
      "name": "Untitled3.ipynb",
      "provenance": [],
      "collapsed_sections": [],
      "machine_shape": "hm",
      "authorship_tag": "ABX9TyO72zx25a900D5jLILoTabf",
      "include_colab_link": true
    },
    "kernelspec": {
      "name": "python3",
      "display_name": "Python 3"
    }
  },
  "cells": [
    {
      "cell_type": "markdown",
      "metadata": {
        "id": "view-in-github",
        "colab_type": "text"
      },
      "source": [
        "<a href=\"https://colab.research.google.com/github/Pushkar-Bhuse/Political-Influence/blob/master/Sentimental_Analysis.ipynb\" target=\"_parent\"><img src=\"https://colab.research.google.com/assets/colab-badge.svg\" alt=\"Open In Colab\"/></a>"
      ]
    },
    {
      "cell_type": "code",
      "metadata": {
        "id": "Mo-v-InKm6_1",
        "colab_type": "code",
        "colab": {}
      },
      "source": [
        "import pandas as pd\n",
        "import numpy as np\n",
        "from keras.preprocessing.text import Tokenizer\n",
        "from keras.preprocessing.sequence import pad_sequences\n",
        "from keras.models import Model, Input\n",
        "from keras.layers import LSTM, Bidirectional, Conv1D, GlobalMaxPool1D, Embedding, Dense, MaxPooling1D, GlobalMaxPooling1D"
      ],
      "execution_count": 0,
      "outputs": []
    },
    {
      "cell_type": "code",
      "metadata": {
        "id": "m-o57XABnR8V",
        "colab_type": "code",
        "colab": {}
      },
      "source": [
        "import pydrive\n",
        "from pydrive.auth import GoogleAuth\n",
        "from pydrive.drive import GoogleDrive\n",
        "from google.colab import auth\n",
        "from oauth2client.client import GoogleCredentials"
      ],
      "execution_count": 0,
      "outputs": []
    },
    {
      "cell_type": "code",
      "metadata": {
        "id": "-2dMjeQMqIiR",
        "colab_type": "code",
        "colab": {}
      },
      "source": [
        "auth.authenticate_user()\n",
        "gauth = GoogleAuth()\n",
        "gauth.credentials = GoogleCredentials.get_application_default()\n",
        "drive = GoogleDrive(gauth)"
      ],
      "execution_count": 0,
      "outputs": []
    },
    {
      "cell_type": "code",
      "metadata": {
        "id": "1yfvWgtuqKkU",
        "colab_type": "code",
        "colab": {}
      },
      "source": [
        "downloaded = drive.CreateFile({'id':\"1SVJBIsINVBj4ewqxr6hGmw2qC2obV2hm\"}) \n",
        "downloaded.GetContentFile('sentiments.csv')  "
      ],
      "execution_count": 0,
      "outputs": []
    },
    {
      "cell_type": "code",
      "metadata": {
        "id": "DJUcW-gAqdwK",
        "colab_type": "code",
        "colab": {}
      },
      "source": [
        "downloaded = drive.CreateFile({'id':\"1CJCcOIF5-6ceTotmjnF2Lm7JgEMm4zvJ\"}) \n",
        "downloaded.GetContentFile('glove.6B.300d.txt')  "
      ],
      "execution_count": 0,
      "outputs": []
    },
    {
      "cell_type": "code",
      "metadata": {
        "id": "0JL0FzPHqh37",
        "colab_type": "code",
        "colab": {}
      },
      "source": [
        "dataset = pd.read_csv('sentiments.csv', engine='python', header=None)"
      ],
      "execution_count": 0,
      "outputs": []
    },
    {
      "cell_type": "code",
      "metadata": {
        "id": "g2mu_lTyqtBt",
        "colab_type": "code",
        "colab": {
          "base_uri": "https://localhost:8080/",
          "height": 34
        },
        "outputId": "6e7b0d6b-2b75-4abe-a3ee-7bf3033e9110"
      },
      "source": [
        "dataset.shape"
      ],
      "execution_count": 19,
      "outputs": [
        {
          "output_type": "execute_result",
          "data": {
            "text/plain": [
              "(1600000, 6)"
            ]
          },
          "metadata": {
            "tags": []
          },
          "execution_count": 19
        }
      ]
    },
    {
      "cell_type": "code",
      "metadata": {
        "id": "Bm0JOTGUrTp7",
        "colab_type": "code",
        "colab": {}
      },
      "source": [
        "dataset = pd.DataFrame(dataset[[0,5]])"
      ],
      "execution_count": 0,
      "outputs": []
    },
    {
      "cell_type": "code",
      "metadata": {
        "id": "ISm6cRyerWco",
        "colab_type": "code",
        "colab": {}
      },
      "source": [
        "dataset.rename(columns={0: \"category\", 5: \"sentiment\"}, inplace=True)"
      ],
      "execution_count": 0,
      "outputs": []
    },
    {
      "cell_type": "code",
      "metadata": {
        "id": "cMlOgN8mr1YE",
        "colab_type": "code",
        "colab": {
          "base_uri": "https://localhost:8080/",
          "height": 68
        },
        "outputId": "ad51d847-c07e-45ac-ae70-e1254de54aa6"
      },
      "source": [
        "dataset['category'].value_counts()"
      ],
      "execution_count": 14,
      "outputs": [
        {
          "output_type": "execute_result",
          "data": {
            "text/plain": [
              "1    800000\n",
              "0    800000\n",
              "Name: category, dtype: int64"
            ]
          },
          "metadata": {
            "tags": []
          },
          "execution_count": 14
        }
      ]
    },
    {
      "cell_type": "code",
      "metadata": {
        "id": "8225RqR7sXkR",
        "colab_type": "code",
        "colab": {
          "base_uri": "https://localhost:8080/",
          "height": 68
        },
        "outputId": "922266d7-500c-4857-fd02-6cdee934182a"
      },
      "source": [
        "dataset.isna().sum()"
      ],
      "execution_count": 31,
      "outputs": [
        {
          "output_type": "execute_result",
          "data": {
            "text/plain": [
              "category     0\n",
              "sentiment    0\n",
              "dtype: int64"
            ]
          },
          "metadata": {
            "tags": []
          },
          "execution_count": 31
        }
      ]
    },
    {
      "cell_type": "code",
      "metadata": {
        "id": "P3OQNqrAs3UO",
        "colab_type": "code",
        "colab": {
          "base_uri": "https://localhost:8080/",
          "height": 34
        },
        "outputId": "29acb567-c57c-47ae-bacf-c3e0e77826f8"
      },
      "source": [
        "print(dataset['sentiment'][90])"
      ],
      "execution_count": 11,
      "outputs": [
        {
          "output_type": "stream",
          "text": [
            "I should have paid more attention when we covered photoshop in my webpage design class in undergrad \n"
          ],
          "name": "stdout"
        }
      ]
    },
    {
      "cell_type": "code",
      "metadata": {
        "id": "diYNcURPs6be",
        "colab_type": "code",
        "colab": {}
      },
      "source": [
        "txt = dataset['sentiment'][90]\n",
        "txt = ' '.join(word for word in txt.split(' ') if not word.startswith('@'))"
      ],
      "execution_count": 0,
      "outputs": []
    },
    {
      "cell_type": "code",
      "metadata": {
        "id": "bLloxtfSta7g",
        "colab_type": "code",
        "colab": {}
      },
      "source": [
        "dataset['sentiment'] = dataset['sentiment'].apply(lambda x: ' '.join(word for word in x.split(' ') if not word.startswith('@')))"
      ],
      "execution_count": 0,
      "outputs": []
    },
    {
      "cell_type": "code",
      "metadata": {
        "id": "9h6aYMTQw-Hu",
        "colab_type": "code",
        "colab": {}
      },
      "source": [
        "def change_y(text):\n",
        "  if text == 4:\n",
        "    return 1\n",
        "  return 0"
      ],
      "execution_count": 0,
      "outputs": []
    },
    {
      "cell_type": "code",
      "metadata": {
        "id": "PdrjyZISyHjk",
        "colab_type": "code",
        "colab": {}
      },
      "source": [
        "dataset['category'] = dataset['category'].apply(lambda x: change_y(x))"
      ],
      "execution_count": 0,
      "outputs": []
    },
    {
      "cell_type": "code",
      "metadata": {
        "id": "8hTFxvlGwXlK",
        "colab_type": "code",
        "colab": {}
      },
      "source": [
        "X = dataset['sentiment']\n",
        "y = dataset['category']"
      ],
      "execution_count": 0,
      "outputs": []
    },
    {
      "cell_type": "code",
      "metadata": {
        "id": "ZPOTAILPtfj3",
        "colab_type": "code",
        "colab": {}
      },
      "source": [
        "BATCH_SIZE = 4096\n",
        "VALIDATION_SPLIT = 0.2\n",
        "EPOCHS = 20\n",
        "LSTM_UNITS = 30\n",
        "MAX_VOCAB = 30000\n",
        "DIMENSIONS = 300"
      ],
      "execution_count": 0,
      "outputs": []
    },
    {
      "cell_type": "code",
      "metadata": {
        "id": "CPFUoBmRuez6",
        "colab_type": "code",
        "colab": {}
      },
      "source": [
        "word2Vec = {}\n",
        "with open('glove.6B.300d.txt') as f:\n",
        "  for line in f:\n",
        "    line = line.rstrip().split(' ')\n",
        "    word = line[0]\n",
        "    embedding_vector = line[1:]\n",
        "    word2Vec[word] = embedding_vector"
      ],
      "execution_count": 0,
      "outputs": []
    },
    {
      "cell_type": "code",
      "metadata": {
        "id": "HpCutY1NydXy",
        "colab_type": "code",
        "colab": {}
      },
      "source": [
        "max_seq_len = max(len(s) for s in X)"
      ],
      "execution_count": 0,
      "outputs": []
    },
    {
      "cell_type": "code",
      "metadata": {
        "id": "YsLxqnfjvDDD",
        "colab_type": "code",
        "colab": {}
      },
      "source": [
        "tokenizer = Tokenizer(MAX_VOCAB)\n",
        "tokenizer.fit_on_texts(X)\n",
        "X = tokenizer.texts_to_sequences(X)"
      ],
      "execution_count": 0,
      "outputs": []
    },
    {
      "cell_type": "code",
      "metadata": {
        "id": "mO8wsN2OxhuR",
        "colab_type": "code",
        "colab": {}
      },
      "source": [
        "inputs_words = tokenizer.word_counts\n"
      ],
      "execution_count": 0,
      "outputs": []
    },
    {
      "cell_type": "code",
      "metadata": {
        "id": "8_XpM3wSzNH2",
        "colab_type": "code",
        "colab": {}
      },
      "source": [
        "# number_inputs_words"
      ],
      "execution_count": 0,
      "outputs": []
    },
    {
      "cell_type": "code",
      "metadata": {
        "id": "Oicu2r-fzZhU",
        "colab_type": "code",
        "colab": {}
      },
      "source": [
        "number_words = min(MAX_VOCAB, len(inputs_words)+1)\n",
        "embedding_matrix = np.zeros((number_words, DIMENSIONS))\n",
        "for word, i in inputs_words.items():\n",
        "  if i < MAX_VOCAB:\n",
        "    embedding_vector = word2Vec.get(word)\n",
        "    if embedding_vector is not None:\n",
        "      embedding_matrix[i] = embedding_vector"
      ],
      "execution_count": 0,
      "outputs": []
    },
    {
      "cell_type": "code",
      "metadata": {
        "id": "htiYZ6nA0JRL",
        "colab_type": "code",
        "colab": {}
      },
      "source": [
        "X = pad_sequences(X, max_seq_len)"
      ],
      "execution_count": 0,
      "outputs": []
    },
    {
      "cell_type": "code",
      "metadata": {
        "id": "O6-KCVBu09-H",
        "colab_type": "code",
        "colab": {}
      },
      "source": [
        "from sklearn.model_selection import train_test_split\n",
        "X_train, X_test, y_train, y_test = train_test_split(X, y, test_size=0.4, random_state=0)"
      ],
      "execution_count": 0,
      "outputs": []
    },
    {
      "cell_type": "code",
      "metadata": {
        "id": "Mo_HzNqi3PTr",
        "colab_type": "code",
        "colab": {}
      },
      "source": [
        "embedding_layer = Embedding(number_words, DIMENSIONS, trainable=True, weights=[embedding_matrix])\n",
        "embedding_layer_input = Input(shape=(max_seq_len,))\n",
        "embedding_layer_x = embedding_layer(embedding_layer_input)"
      ],
      "execution_count": 0,
      "outputs": []
    },
    {
      "cell_type": "code",
      "metadata": {
        "id": "AMCdY5T43mCW",
        "colab_type": "code",
        "colab": {}
      },
      "source": [
        "lstm = LSTM(LSTM_UNITS, return_sequences=True)\n",
        "lstm_ouputs = lstm(embedding_layer_x)\n",
        "after_lstm = GlobalMaxPool1D()(lstm_ouputs)"
      ],
      "execution_count": 0,
      "outputs": []
    },
    {
      "cell_type": "code",
      "metadata": {
        "id": "fl3ZbXSi415r",
        "colab_type": "code",
        "colab": {}
      },
      "source": [
        "dense_layer = Dense(1, activation='sigmoid')\n",
        "output_category = dense_layer(after_lstm)"
      ],
      "execution_count": 0,
      "outputs": []
    },
    {
      "cell_type": "code",
      "metadata": {
        "id": "PjE4vU0K6JL0",
        "colab_type": "code",
        "colab": {}
      },
      "source": [
        "model = Model(embedding_layer_input, output_category)"
      ],
      "execution_count": 0,
      "outputs": []
    },
    {
      "cell_type": "code",
      "metadata": {
        "id": "lhwPseqR7sX6",
        "colab_type": "code",
        "colab": {}
      },
      "source": [
        "model.compile(optimizer='adam', loss='binary_crossentropy', metrics=['accuracy'])"
      ],
      "execution_count": 0,
      "outputs": []
    },
    {
      "cell_type": "code",
      "metadata": {
        "id": "Kr_K6JVf71wq",
        "colab_type": "code",
        "colab": {
          "base_uri": "https://localhost:8080/",
          "height": 323
        },
        "outputId": "7df7e267-4cdc-49cb-89aa-cf9c6b5571c6"
      },
      "source": [
        "model.summary()"
      ],
      "execution_count": 50,
      "outputs": [
        {
          "output_type": "stream",
          "text": [
            "Model: \"model_1\"\n",
            "_________________________________________________________________\n",
            "Layer (type)                 Output Shape              Param #   \n",
            "=================================================================\n",
            "input_1 (InputLayer)         (None, 359)               0         \n",
            "_________________________________________________________________\n",
            "embedding_1 (Embedding)      (None, 359, 300)          9000000   \n",
            "_________________________________________________________________\n",
            "lstm_8 (LSTM)                (None, 359, 30)           39720     \n",
            "_________________________________________________________________\n",
            "global_max_pooling1d_4 (Glob (None, 30)                0         \n",
            "_________________________________________________________________\n",
            "dense_2 (Dense)              (None, 1)                 31        \n",
            "=================================================================\n",
            "Total params: 9,039,751\n",
            "Trainable params: 9,039,751\n",
            "Non-trainable params: 0\n",
            "_________________________________________________________________\n"
          ],
          "name": "stdout"
        }
      ]
    },
    {
      "cell_type": "code",
      "metadata": {
        "id": "Uq8Ow7A472_V",
        "colab_type": "code",
        "colab": {
          "base_uri": "https://localhost:8080/",
          "height": 241
        },
        "outputId": "2118a599-2628-4c66-eeb9-416d252345af"
      },
      "source": [
        "model.fit(X_train, y_train, batch_size=BATCH_SIZE, epochs=EPOCHS, validation_split=VALIDATION_SPLIT)"
      ],
      "execution_count": 68,
      "outputs": [
        {
          "output_type": "stream",
          "text": [
            "Train on 768000 samples, validate on 192000 samples\n",
            "Epoch 1/5\n",
            "768000/768000 [==============================] - 2589s 3ms/step - loss: 0.4105 - accuracy: 0.8137 - val_loss: 0.4186 - val_accuracy: 0.8081\n",
            "Epoch 2/5\n",
            "768000/768000 [==============================] - 2492s 3ms/step - loss: 0.3981 - accuracy: 0.8206 - val_loss: 0.4134 - val_accuracy: 0.8114\n",
            "Epoch 3/5\n",
            "768000/768000 [==============================] - 2674s 3ms/step - loss: 0.3879 - accuracy: 0.8262 - val_loss: 0.4098 - val_accuracy: 0.8132\n",
            "Epoch 4/5\n",
            "768000/768000 [==============================] - 2544s 3ms/step - loss: 0.3786 - accuracy: 0.8316 - val_loss: 0.4075 - val_accuracy: 0.8148\n",
            "Epoch 5/5\n",
            "768000/768000 [==============================] - 2496s 3ms/step - loss: 0.3694 - accuracy: 0.8366 - val_loss: 0.4070 - val_accuracy: 0.8150\n"
          ],
          "name": "stdout"
        },
        {
          "output_type": "execute_result",
          "data": {
            "text/plain": [
              "<keras.callbacks.callbacks.History at 0x7f7619e86710>"
            ]
          },
          "metadata": {
            "tags": []
          },
          "execution_count": 68
        }
      ]
    },
    {
      "cell_type": "code",
      "metadata": {
        "id": "9zOTuDf9zya7",
        "colab_type": "code",
        "colab": {}
      },
      "source": [
        "model.save('rnn_on_sentimental.h5')"
      ],
      "execution_count": 0,
      "outputs": []
    },
    {
      "cell_type": "code",
      "metadata": {
        "id": "K11vaUPn_L2c",
        "colab_type": "code",
        "colab": {}
      },
      "source": [
        "embedding_cnn_input = Input(shape=(max_seq_len,))\n",
        "embedding_cnn_layer = Embedding(number_words, DIMENSIONS, weights=[embedding_matrix], trainable=True)\n",
        "embedding_x = embedding_cnn_layer(embedding_cnn_input)"
      ],
      "execution_count": 0,
      "outputs": []
    },
    {
      "cell_type": "code",
      "metadata": {
        "id": "AkI_sjYS8MkF",
        "colab_type": "code",
        "colab": {}
      },
      "source": [
        "x = Conv1D(128, 3, activation='relu')(embedding_x)\n",
        "x = MaxPooling1D(3)(x)\n",
        "x = Conv1D(128, 3, activation='relu')(x)\n",
        "x = GlobalMaxPooling1D()(x)\n",
        "x = Dense(128, activation='relu')(x)\n",
        "output = Dense(1, activation='sigmoid')(x)"
      ],
      "execution_count": 0,
      "outputs": []
    },
    {
      "cell_type": "code",
      "metadata": {
        "id": "tb18QHnMAx8I",
        "colab_type": "code",
        "colab": {
          "base_uri": "https://localhost:8080/",
          "height": 425
        },
        "outputId": "ba22ceb7-ceda-404a-b366-257874b58a02"
      },
      "source": [
        "model2 = Model(embedding_cnn_input, output)\n",
        "model2.summary()"
      ],
      "execution_count": 66,
      "outputs": [
        {
          "output_type": "stream",
          "text": [
            "Model: \"model_2\"\n",
            "_________________________________________________________________\n",
            "Layer (type)                 Output Shape              Param #   \n",
            "=================================================================\n",
            "input_4 (InputLayer)         (None, 359)               0         \n",
            "_________________________________________________________________\n",
            "embedding_2 (Embedding)      (None, 359, 300)          9000000   \n",
            "_________________________________________________________________\n",
            "conv1d_5 (Conv1D)            (None, 357, 128)          115328    \n",
            "_________________________________________________________________\n",
            "max_pooling1d_3 (MaxPooling1 (None, 119, 128)          0         \n",
            "_________________________________________________________________\n",
            "conv1d_6 (Conv1D)            (None, 117, 128)          49280     \n",
            "_________________________________________________________________\n",
            "global_max_pooling1d_5 (Glob (None, 128)               0         \n",
            "_________________________________________________________________\n",
            "dense_3 (Dense)              (None, 128)               16512     \n",
            "_________________________________________________________________\n",
            "dense_4 (Dense)              (None, 1)                 129       \n",
            "=================================================================\n",
            "Total params: 9,181,249\n",
            "Trainable params: 9,181,249\n",
            "Non-trainable params: 0\n",
            "_________________________________________________________________\n"
          ],
          "name": "stdout"
        }
      ]
    },
    {
      "cell_type": "code",
      "metadata": {
        "id": "0K2t_xZkA3wF",
        "colab_type": "code",
        "colab": {}
      },
      "source": [
        "model2.compile(optimizer='adam', loss='binary_crossentropy', metrics=['accuracy'])"
      ],
      "execution_count": 0,
      "outputs": []
    },
    {
      "cell_type": "code",
      "metadata": {
        "id": "2fDRNVqjA9Gj",
        "colab_type": "code",
        "colab": {
          "base_uri": "https://localhost:8080/",
          "height": 224
        },
        "outputId": "be7ece63-eb4e-4cd7-8d50-c37e672d40f7"
      },
      "source": [
        "model2.fit(X_train, y_train, batch_size=BATCH_SIZE, epochs=EPOCHS, validation_split=VALIDATION_SPLIT)"
      ],
      "execution_count": 0,
      "outputs": [
        {
          "output_type": "stream",
          "text": [
            "/usr/local/lib/python3.6/dist-packages/tensorflow/python/framework/indexed_slices.py:434: UserWarning: Converting sparse IndexedSlices to a dense Tensor of unknown shape. This may consume a large amount of memory.\n",
            "  \"Converting sparse IndexedSlices to a dense Tensor of unknown shape. \"\n"
          ],
          "name": "stderr"
        },
        {
          "output_type": "stream",
          "text": [
            "Train on 768000 samples, validate on 192000 samples\n",
            "Epoch 1/20\n",
            "768000/768000 [==============================] - 2707s 4ms/step - loss: 0.4944 - accuracy: 0.7530 - val_loss: 0.4229 - val_accuracy: 0.8064\n",
            "Epoch 2/20\n",
            "768000/768000 [==============================] - 2701s 4ms/step - loss: 0.3980 - accuracy: 0.8200 - val_loss: 0.4088 - val_accuracy: 0.8131\n",
            "Epoch 3/20\n",
            "768000/768000 [==============================] - 2699s 4ms/step - loss: 0.3684 - accuracy: 0.8358 - val_loss: 0.4095 - val_accuracy: 0.8129\n",
            "Epoch 4/20\n",
            "589824/768000 [======================>.......] - ETA: 9:46 - loss: 0.3412 - accuracy: 0.8508 "
          ],
          "name": "stdout"
        }
      ]
    },
    {
      "cell_type": "code",
      "metadata": {
        "id": "RdhLSwmYz9X4",
        "colab_type": "code",
        "colab": {}
      },
      "source": [
        ""
      ],
      "execution_count": 0,
      "outputs": []
    }
  ]
}