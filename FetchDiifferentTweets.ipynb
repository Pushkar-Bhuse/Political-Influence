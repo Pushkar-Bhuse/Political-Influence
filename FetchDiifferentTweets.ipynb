{
  "nbformat": 4,
  "nbformat_minor": 0,
  "metadata": {
    "colab": {
      "name": "FetchDiifferentTweets.ipynb",
      "provenance": [],
      "authorship_tag": "ABX9TyN7TkkkvtfeHHFVnGQZb9Pg",
      "include_colab_link": true
    },
    "kernelspec": {
      "name": "python3",
      "display_name": "Python 3"
    }
  },
  "cells": [
    {
      "cell_type": "markdown",
      "metadata": {
        "id": "view-in-github",
        "colab_type": "text"
      },
      "source": [
        "<a href=\"https://colab.research.google.com/github/Pushkar-Bhuse/Political-Influence/blob/master/FetchDiifferentTweets.ipynb\" target=\"_parent\"><img src=\"https://colab.research.google.com/assets/colab-badge.svg\" alt=\"Open In Colab\"/></a>"
      ]
    },
    {
      "cell_type": "code",
      "metadata": {
        "id": "QnODis0DLKgr",
        "colab_type": "code",
        "colab": {}
      },
      "source": [
        "ACCESS_TOKEN = \"1094274318979219456-KeVn3kfiHAOg2KGUTflPq9tWhUiBzJ\"\n",
        "ACCESS_TOKEN_SECRET = \"zWjkXTu7rP0jfaUFnqmNTFA0EVG2I99pe3dDhIU3c7goM\"\n",
        "CONSUMER_KEY = \"xIsAoCgKTDgR8j04dhwXsgdRf\"\n",
        "CONSUMER_KEY_SECRET = \"btiCEppjwNM8fhaf984NiFk1S6NveDgd5bU8IvMjW2Rl444GMa\""
      ],
      "execution_count": 0,
      "outputs": []
    },
    {
      "cell_type": "code",
      "metadata": {
        "id": "6bKv3ihHPIXy",
        "colab_type": "code",
        "colab": {}
      },
      "source": [
        "from tweepy.streaming import StreamListener\n",
        "from tweepy import OAuthHandler\n",
        "from tweepy import Stream\n",
        "from tweepy import API\n",
        "\n",
        "from tweepy import Cursor \n",
        "import json\n",
        "import tweepy\n",
        "import pandas as pd\n",
        "from tqdm import tqdm\n",
        "def authenticate():\n",
        "    auth = OAuthHandler(CONSUMER_KEY, CONSUMER_KEY_SECRET)\n",
        "    auth.set_access_token(ACCESS_TOKEN, ACCESS_TOKEN_SECRET)\n",
        "    return auth       \n",
        "def createDataFrame(poli_hashtags, non_poli_hashtags, count):\n",
        "    auth = authenticate()\n",
        "    api = API(auth)\n",
        "    PoliticalDF = pd.DataFrame()\n",
        "    PoliticalDF[\"tweet\"] = \"\"\n",
        "    PoliticalDF[\"id\"] = \"\"\n",
        "\n",
        "    NonPoliticalDF = pd.DataFrame()\n",
        "    NonPoliticalDF[\"tweet\"] = \"\"\n",
        "    NonPoliticalDF[\"id\"] = \"\"\n",
        "    i = 0\n",
        "    for hashtag in poli_hashtags:\n",
        "        tweets = Cursor(api.search,q=hashtag,full_text=True).items(count)\n",
        "        \n",
        "        for  tweet in tqdm(tweets):\n",
        "            i += 1\n",
        "\n",
        "            if tweet._json['in_reply_to_status_id_str'] != None:\n",
        "                t = tweet._json['in_reply_to_status_id_str']\n",
        "                while True:\n",
        "                    \n",
        "                    result = api.get_status(t, full_text=True)\n",
        "                    \n",
        "                    if result._json['in_reply_to_status_id_str'] != None:\n",
        "                        t = result._json['in_reply_to_status_id_str']\n",
        "                    else:\n",
        "                        PoliticalDF.at[i, \"id\"] = result._json['id']\n",
        "                        \n",
        "                        PoliticalDF.at[i, \"tweet\"] = result._json['text']\n",
        "\n",
        "                        break\n",
        "            else:\n",
        "                # print(\"ok\")\n",
        "                PoliticalDF.at[i, \"id\"] = tweet._json['id']\n",
        "                        \n",
        "                PoliticalDF.at[i, \"tweet\"] = tweet._json['text']\n",
        "    # _________________________________________________________________________________\n",
        "    for hashtag in non_poli_hashtags:\n",
        "        tweets = Cursor(api.search,q=hashtag,full_text=True).items(count)\n",
        "        \n",
        "        for  tweet in tqdm(tweets):\n",
        "            i += 1\n",
        "\n",
        "            if tweet._json['in_reply_to_status_id_str'] != None:\n",
        "                t = tweet._json['in_reply_to_status_id_str']\n",
        "                while True:\n",
        "                    \n",
        "                    result = api.get_status(t, full_text=True)\n",
        "                    \n",
        "                    if result._json['in_reply_to_status_id_str'] != None:\n",
        "                        t = result._json['in_reply_to_status_id_str']\n",
        "                    else:\n",
        "                        NonPoliticalDF.at[i, \"id\"] = result._json['id']\n",
        "                        \n",
        "                        NonPoliticalDF.at[i, \"tweet\"] = result._json['text']\n",
        "\n",
        "                        break\n",
        "            else:\n",
        "                NonPoliticalDF.at[i, \"id\"] = tweet._json['id']\n",
        "                        \n",
        "                NonPoliticalDF.at[i, \"tweet\"] = tweet._json['text']\n",
        "    print(type(PoliticalDF))  \n",
        "    return PoliticalDF, NonPoliticalDF"
      ],
      "execution_count": 0,
      "outputs": []
    },
    {
      "cell_type": "code",
      "metadata": {
        "id": "8sycngjnTCiY",
        "colab_type": "code",
        "colab": {
          "base_uri": "https://localhost:8080/",
          "height": 68
        },
        "outputId": "0a0cf885-be0a-4b76-cc18-6bcdf217955b"
      },
      "source": [
        "PoliticalDF = pd.DataFrame()\n",
        "NonPoliticalDF = pd.DataFrame()\n",
        "PoliticalDF, NonPoliticalDF = createDataFrame([\"#JanataCurfew\"],[\"bantiktok\"], count=1000)"
      ],
      "execution_count": 14,
      "outputs": [
        {
          "output_type": "stream",
          "text": [
            "792it [00:15, 49.63it/s]\n",
            "280it [00:20, 13.86it/s]"
          ],
          "name": "stderr"
        },
        {
          "output_type": "stream",
          "text": [
            "<class 'pandas.core.frame.DataFrame'>\n"
          ],
          "name": "stdout"
        },
        {
          "output_type": "stream",
          "text": [
            "\n"
          ],
          "name": "stderr"
        }
      ]
    },
    {
      "cell_type": "code",
      "metadata": {
        "id": "vcyf5eHYTLD7",
        "colab_type": "code",
        "colab": {
          "base_uri": "https://localhost:8080/",
          "height": 34
        },
        "outputId": "054ddd92-b26f-4ef7-dc4e-ac6bb6dd88a2"
      },
      "source": [
        "print(PoliticalDF.shape)"
      ],
      "execution_count": 15,
      "outputs": [
        {
          "output_type": "stream",
          "text": [
            "(792, 2)\n"
          ],
          "name": "stdout"
        }
      ]
    },
    {
      "cell_type": "code",
      "metadata": {
        "id": "tuacG589mzn6",
        "colab_type": "code",
        "colab": {
          "base_uri": "https://localhost:8080/",
          "height": 204
        },
        "outputId": "dfbcc9ff-1ce6-4628-9a9a-02e4dc5417bc"
      },
      "source": [
        "PoliticalDF.head()"
      ],
      "execution_count": 17,
      "outputs": [
        {
          "output_type": "execute_result",
          "data": {
            "text/html": [
              "<div>\n",
              "<style scoped>\n",
              "    .dataframe tbody tr th:only-of-type {\n",
              "        vertical-align: middle;\n",
              "    }\n",
              "\n",
              "    .dataframe tbody tr th {\n",
              "        vertical-align: top;\n",
              "    }\n",
              "\n",
              "    .dataframe thead th {\n",
              "        text-align: right;\n",
              "    }\n",
              "</style>\n",
              "<table border=\"1\" class=\"dataframe\">\n",
              "  <thead>\n",
              "    <tr style=\"text-align: right;\">\n",
              "      <th></th>\n",
              "      <th>tweet</th>\n",
              "      <th>id</th>\n",
              "    </tr>\n",
              "  </thead>\n",
              "  <tbody>\n",
              "    <tr>\n",
              "      <th>1</th>\n",
              "      <td>RT @shivkasaudhan80: हम सबके जीवनकाल में कितनी...</td>\n",
              "      <td>1265570326970327043</td>\n",
              "    </tr>\n",
              "    <tr>\n",
              "      <th>2</th>\n",
              "      <td>RT @urstrulyMahesh: Urging all citizens to sup...</td>\n",
              "      <td>1265546622043381761</td>\n",
              "    </tr>\n",
              "    <tr>\n",
              "      <th>3</th>\n",
              "      <td>RT @ysjagan: I salute the indomitable spirit o...</td>\n",
              "      <td>1265524532917555201</td>\n",
              "    </tr>\n",
              "    <tr>\n",
              "      <th>4</th>\n",
              "      <td>RT @SrBachchan: T 3478 - Marine Drive, Mumbai ...</td>\n",
              "      <td>1265523920645640205</td>\n",
              "    </tr>\n",
              "    <tr>\n",
              "      <th>5</th>\n",
              "      <td>RT @tarak9999: Self isolation and social dista...</td>\n",
              "      <td>1265484159415275520</td>\n",
              "    </tr>\n",
              "  </tbody>\n",
              "</table>\n",
              "</div>"
            ],
            "text/plain": [
              "                                               tweet                   id\n",
              "1  RT @shivkasaudhan80: हम सबके जीवनकाल में कितनी...  1265570326970327043\n",
              "2  RT @urstrulyMahesh: Urging all citizens to sup...  1265546622043381761\n",
              "3  RT @ysjagan: I salute the indomitable spirit o...  1265524532917555201\n",
              "4  RT @SrBachchan: T 3478 - Marine Drive, Mumbai ...  1265523920645640205\n",
              "5  RT @tarak9999: Self isolation and social dista...  1265484159415275520"
            ]
          },
          "metadata": {
            "tags": []
          },
          "execution_count": 17
        }
      ]
    },
    {
      "cell_type": "code",
      "metadata": {
        "id": "YvjQaYnfTZ6r",
        "colab_type": "code",
        "colab": {
          "base_uri": "https://localhost:8080/",
          "height": 204
        },
        "outputId": "f054090d-8032-4b9d-96db-5f5740aa26ec"
      },
      "source": [
        "NonPoliticalDF.head()"
      ],
      "execution_count": 18,
      "outputs": [
        {
          "output_type": "execute_result",
          "data": {
            "text/html": [
              "<div>\n",
              "<style scoped>\n",
              "    .dataframe tbody tr th:only-of-type {\n",
              "        vertical-align: middle;\n",
              "    }\n",
              "\n",
              "    .dataframe tbody tr th {\n",
              "        vertical-align: top;\n",
              "    }\n",
              "\n",
              "    .dataframe thead th {\n",
              "        text-align: right;\n",
              "    }\n",
              "</style>\n",
              "<table border=\"1\" class=\"dataframe\">\n",
              "  <thead>\n",
              "    <tr style=\"text-align: right;\">\n",
              "      <th></th>\n",
              "      <th>tweet</th>\n",
              "      <th>id</th>\n",
              "    </tr>\n",
              "  </thead>\n",
              "  <tbody>\n",
              "    <tr>\n",
              "      <th>793</th>\n",
              "      <td>Devbhoomi, you're in our thoughts and prayers....</td>\n",
              "      <td>1265583893291253760</td>\n",
              "    </tr>\n",
              "    <tr>\n",
              "      <th>794</th>\n",
              "      <td>Watch my new video \\n#BanTiktok \\nLink:-https:...</td>\n",
              "      <td>1265585266380734469</td>\n",
              "    </tr>\n",
              "    <tr>\n",
              "      <th>795</th>\n",
              "      <td>#DickDock youth ko khokla bana rahi hai yeh @T...</td>\n",
              "      <td>1265585259367849985</td>\n",
              "    </tr>\n",
              "    <tr>\n",
              "      <th>796</th>\n",
              "      <td>Why I Don't Use TikTok???🔥🔥🔥\\nRT🔃 If you Don't...</td>\n",
              "      <td>1265571321964085249</td>\n",
              "    </tr>\n",
              "    <tr>\n",
              "      <th>797</th>\n",
              "      <td>Technical roast 😂😂\\nMaan gye guru ji ❤❤ \\n@Tec...</td>\n",
              "      <td>1265584931167703040</td>\n",
              "    </tr>\n",
              "  </tbody>\n",
              "</table>\n",
              "</div>"
            ],
            "text/plain": [
              "                                                 tweet                   id\n",
              "793  Devbhoomi, you're in our thoughts and prayers....  1265583893291253760\n",
              "794  Watch my new video \\n#BanTiktok \\nLink:-https:...  1265585266380734469\n",
              "795  #DickDock youth ko khokla bana rahi hai yeh @T...  1265585259367849985\n",
              "796  Why I Don't Use TikTok???🔥🔥🔥\\nRT🔃 If you Don't...  1265571321964085249\n",
              "797  Technical roast 😂😂\\nMaan gye guru ji ❤❤ \\n@Tec...  1265584931167703040"
            ]
          },
          "metadata": {
            "tags": []
          },
          "execution_count": 18
        }
      ]
    },
    {
      "cell_type": "code",
      "metadata": {
        "id": "ibUprBfMk62f",
        "colab_type": "code",
        "colab": {
          "base_uri": "https://localhost:8080/",
          "height": 34
        },
        "outputId": "4d67a1c2-5118-4289-ec85-be42081b43f6"
      },
      "source": [
        "print(NonPoliticalDF.shape)"
      ],
      "execution_count": 19,
      "outputs": [
        {
          "output_type": "stream",
          "text": [
            "(280, 2)\n"
          ],
          "name": "stdout"
        }
      ]
    },
    {
      "cell_type": "code",
      "metadata": {
        "id": "P89gwFs2m2ox",
        "colab_type": "code",
        "colab": {}
      },
      "source": [
        ""
      ],
      "execution_count": 0,
      "outputs": []
    }
  ]
}