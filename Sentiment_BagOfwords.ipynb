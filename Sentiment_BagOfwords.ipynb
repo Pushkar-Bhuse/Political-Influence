{
  "cells": [
    {
      "cell_type": "code",
      "metadata": {
        "id": "6UMuNZe4HzHx",
        "colab_type": "code",
        "colab": {
          "base_uri": "https://localhost:8080/",
          "height": 34
        },
        "outputId": "1f3aee5d-ca69-42ed-82ea-9511822ac232"
      },
      "source": [
        "import pandas as pd \n",
        "import numpy as np\n",
        "from sklearn import model_selection, preprocessing, linear_model, naive_bayes, metrics, svm\n",
        "from sklearn.feature_extraction.text import TfidfVectorizer, CountVectorizer\n",
        "from sklearn import decomposition, ensemble\n",
        "\n",
        "import pandas, xgboost, numpy, textblob, string\n",
        "from keras.preprocessing import text, sequence\n",
        "from keras import layers, models, optimizers\n",
        "import itertools"
      ],
      "execution_count": 1,
      "outputs": [
        {
          "output_type": "stream",
          "text": [
            "Using TensorFlow backend.\n"
          ],
          "name": "stderr"
        }
      ]
    },
    {
      "cell_type": "markdown",
      "metadata": {
        "id": "Uq1HEhEdq9N6",
        "colab_type": "text"
      },
      "source": [
        "## Dataset preparation"
      ]
    },
    {
      "cell_type": "code",
      "metadata": {
        "id": "LxlHfczuH3UN",
        "colab_type": "code",
        "colab": {}
      },
      "source": [
        "def shuffle(df, n=1, axis=0):  \n",
        "    df = df.copy()\n",
        "    for _ in range():\n",
        "        df.apply(np.random.shuffle, axis=axis)\n",
        "    return df"
      ],
      "execution_count": 0,
      "outputs": []
    },
    {
      "cell_type": "code",
      "metadata": {
        "id": "GtYXpflOIKCL",
        "colab_type": "code",
        "outputId": "59e7be0b-7e63-4c0b-d669-c369693dc4ad",
        "colab": {
          "base_uri": "https://localhost:8080/",
          "height": 197
        }
      },
      "source": [
        "df_bjp = pd.read_csv('bjp_data.csv',encoding=\"ISO-8859-1\")\n",
        "df_bjp = df_bjp.rename(columns = {'commentText': 'SentimentText', 'Label': 'Sentiment'})\n",
        "df_bjp.head()"
      ],
      "execution_count": 3,
      "outputs": [
        {
          "output_type": "execute_result",
          "data": {
            "text/html": [
              "<div>\n",
              "<style scoped>\n",
              "    .dataframe tbody tr th:only-of-type {\n",
              "        vertical-align: middle;\n",
              "    }\n",
              "\n",
              "    .dataframe tbody tr th {\n",
              "        vertical-align: top;\n",
              "    }\n",
              "\n",
              "    .dataframe thead th {\n",
              "        text-align: right;\n",
              "    }\n",
              "</style>\n",
              "<table border=\"1\" class=\"dataframe\">\n",
              "  <thead>\n",
              "    <tr style=\"text-align: right;\">\n",
              "      <th></th>\n",
              "      <th>SentimentText</th>\n",
              "      <th>Sentiment</th>\n",
              "    </tr>\n",
              "  </thead>\n",
              "  <tbody>\n",
              "    <tr>\n",
              "      <th>0</th>\n",
              "      <td>Banda apna 100 % best he</td>\n",
              "      <td>1</td>\n",
              "    </tr>\n",
              "    <tr>\n",
              "      <th>1</th>\n",
              "      <td>WE NEED THE KING MAKER  ---- NARENDRA MODI</td>\n",
              "      <td>1</td>\n",
              "    </tr>\n",
              "    <tr>\n",
              "      <th>2</th>\n",
              "      <td>Awesome... Banda apna Best hai</td>\n",
              "      <td>1</td>\n",
              "    </tr>\n",
              "    <tr>\n",
              "      <th>3</th>\n",
              "      <td>Best PM ever</td>\n",
              "      <td>1</td>\n",
              "    </tr>\n",
              "    <tr>\n",
              "      <th>4</th>\n",
              "      <td>RAHUL GANDHI LEFT THE CHAT</td>\n",
              "      <td>1</td>\n",
              "    </tr>\n",
              "  </tbody>\n",
              "</table>\n",
              "</div>"
            ],
            "text/plain": [
              "                                SentimentText  Sentiment\n",
              "0                    Banda apna 100 % best he          1\n",
              "1  WE NEED THE KING MAKER  ---- NARENDRA MODI          1\n",
              "2              Awesome... Banda apna Best hai          1\n",
              "3                                Best PM ever          1\n",
              "4                  RAHUL GANDHI LEFT THE CHAT          1"
            ]
          },
          "metadata": {
            "tags": []
          },
          "execution_count": 3
        }
      ]
    },
    {
      "cell_type": "code",
      "metadata": {
        "id": "redtvp8DIQTg",
        "colab_type": "code",
        "colab": {}
      },
      "source": [
        "# df_cong = pd.read_csv('CONGRESS.csv',encoding=\"ISO-8859-1\")\n",
        "# df_cong = df_cong.rename(columns = {'ï»¿commentText': 'SentimentText', 'Label': 'Sentiment'})"
      ],
      "execution_count": 0,
      "outputs": []
    },
    {
      "cell_type": "markdown",
      "metadata": {
        "id": "5-2GEKP5rDW5",
        "colab_type": "text"
      },
      "source": [
        "## Data Preprocessing"
      ]
    },
    {
      "cell_type": "code",
      "metadata": {
        "id": "GOeTyqTwI_wM",
        "colab_type": "code",
        "colab": {}
      },
      "source": [
        "import re\n",
        "#handling links\n",
        "df_bjp['SentimentText'] = df_bjp['SentimentText'].str.replace(\"https?://\\S*\", \" \")\n",
        "#handling user tags\n",
        "df_bjp['SentimentText'] = df_bjp['SentimentText'].str.replace(\"@[\\w]*\", \" \")\n",
        "#handling special character,punctuation,numbers\n",
        "df_bjp['SentimentText'] = df_bjp['SentimentText'].str.replace(\"[^a-zA-Z#]\", \" \")\n",
        "#fix misspelled words\n",
        "df_bjp['SentimentText'] = df_bjp['SentimentText'].apply(lambda x: ''.join(''.join(s)[:2] for _, s in itertools.groupby(x)))\n",
        "\n",
        "df_bjp['SentimentText'] = df_bjp['SentimentText'].apply(lambda x: ' '.join(re.sub(\"(@[A-Za-z0-9]+)|(#[A-Za-z0-9]+)\", \" \", x).split()))\n",
        "\n",
        "df_bjp['SentimentText'] = df_bjp['SentimentText'].apply(lambda x: ' '.join([w for w in x.split() if len(w)>2]))"
      ],
      "execution_count": 0,
      "outputs": []
    },
    {
      "cell_type": "code",
      "metadata": {
        "id": "sLUTPTNNKEC7",
        "colab_type": "code",
        "outputId": "476fd80a-8a36-4748-ad4b-89f8ee3c099c",
        "colab": {
          "base_uri": "https://localhost:8080/",
          "height": 197
        }
      },
      "source": [
        "df_bjp.head()"
      ],
      "execution_count": 6,
      "outputs": [
        {
          "output_type": "execute_result",
          "data": {
            "text/html": [
              "<div>\n",
              "<style scoped>\n",
              "    .dataframe tbody tr th:only-of-type {\n",
              "        vertical-align: middle;\n",
              "    }\n",
              "\n",
              "    .dataframe tbody tr th {\n",
              "        vertical-align: top;\n",
              "    }\n",
              "\n",
              "    .dataframe thead th {\n",
              "        text-align: right;\n",
              "    }\n",
              "</style>\n",
              "<table border=\"1\" class=\"dataframe\">\n",
              "  <thead>\n",
              "    <tr style=\"text-align: right;\">\n",
              "      <th></th>\n",
              "      <th>SentimentText</th>\n",
              "      <th>Sentiment</th>\n",
              "    </tr>\n",
              "  </thead>\n",
              "  <tbody>\n",
              "    <tr>\n",
              "      <th>0</th>\n",
              "      <td>Banda apna best</td>\n",
              "      <td>1</td>\n",
              "    </tr>\n",
              "    <tr>\n",
              "      <th>1</th>\n",
              "      <td>NEED THE KING MAKER NARENDRA MODI</td>\n",
              "      <td>1</td>\n",
              "    </tr>\n",
              "    <tr>\n",
              "      <th>2</th>\n",
              "      <td>Awesome Banda apna Best hai</td>\n",
              "      <td>1</td>\n",
              "    </tr>\n",
              "    <tr>\n",
              "      <th>3</th>\n",
              "      <td>Best ever</td>\n",
              "      <td>1</td>\n",
              "    </tr>\n",
              "    <tr>\n",
              "      <th>4</th>\n",
              "      <td>RAHUL GANDHI LEFT THE CHAT</td>\n",
              "      <td>1</td>\n",
              "    </tr>\n",
              "  </tbody>\n",
              "</table>\n",
              "</div>"
            ],
            "text/plain": [
              "                       SentimentText  Sentiment\n",
              "0                    Banda apna best          1\n",
              "1  NEED THE KING MAKER NARENDRA MODI          1\n",
              "2        Awesome Banda apna Best hai          1\n",
              "3                          Best ever          1\n",
              "4         RAHUL GANDHI LEFT THE CHAT          1"
            ]
          },
          "metadata": {
            "tags": []
          },
          "execution_count": 6
        }
      ]
    },
    {
      "cell_type": "code",
      "metadata": {
        "id": "Hr5cKsphT_DH",
        "colab_type": "code",
        "outputId": "3cfeddcc-a957-4c0c-f0d0-f81b3099b94a",
        "colab": {
          "base_uri": "https://localhost:8080/",
          "height": 70
        }
      },
      "source": [
        "import nltk\n",
        "# nltk.download('stopwords')\n",
        "nltk.download('punkt')"
      ],
      "execution_count": 7,
      "outputs": [
        {
          "output_type": "stream",
          "text": [
            "[nltk_data] Downloading package punkt to /root/nltk_data...\n",
            "[nltk_data]   Unzipping tokenizers/punkt.zip.\n"
          ],
          "name": "stdout"
        },
        {
          "output_type": "execute_result",
          "data": {
            "text/plain": [
              "True"
            ]
          },
          "metadata": {
            "tags": []
          },
          "execution_count": 7
        }
      ]
    },
    {
      "cell_type": "code",
      "metadata": {
        "id": "xdm8dPnpKuIT",
        "colab_type": "code",
        "colab": {}
      },
      "source": [
        "stopwords = []\n",
        "with open('hinglishStopWords.txt', 'r') as f:\n",
        "    hinglishStopWords = f.read().split('\\n')\n",
        "stopwords+=hinglishStopWords\n",
        "\n",
        "with open('englishStopWords','r') as f:\n",
        "    englishStopWords = f.read().split('\\n')\n",
        "stopwords+=englishStopWords"
      ],
      "execution_count": 0,
      "outputs": []
    },
    {
      "cell_type": "code",
      "metadata": {
        "id": "brL8uroQPzQA",
        "colab_type": "code",
        "colab": {}
      },
      "source": [
        "from nltk.tokenize import word_tokenize\n",
        "\n",
        "def tokenization(tweet):\n",
        "    text = []\n",
        "    for token in word_tokenize(tweet):\n",
        "        if token in stopwords:\n",
        "            continue\n",
        "        else:\n",
        "            text.append(token)\n",
        "    return text"
      ],
      "execution_count": 0,
      "outputs": []
    },
    {
      "cell_type": "code",
      "metadata": {
        "id": "BD668IETP1Gd",
        "colab_type": "code",
        "colab": {}
      },
      "source": [
        "df_bjp['SentimentText'] = df_bjp['SentimentText'].apply(lambda x: tokenization(x))"
      ],
      "execution_count": 0,
      "outputs": []
    },
    {
      "cell_type": "code",
      "metadata": {
        "id": "s-rBT24GUN6H",
        "colab_type": "code",
        "colab": {}
      },
      "source": [
        "df_bjp['SentimentText'] = df_bjp['SentimentText'].apply(lambda x: ' '.join(x) )"
      ],
      "execution_count": 0,
      "outputs": []
    },
    {
      "cell_type": "code",
      "metadata": {
        "id": "0pMIX7BJpS2H",
        "colab_type": "code",
        "colab": {}
      },
      "source": [
        "train_x, valid_x, train_y, valid_y = model_selection.train_test_split(df_bjp['SentimentText'], df_bjp['Sentiment'])"
      ],
      "execution_count": 0,
      "outputs": []
    },
    {
      "cell_type": "code",
      "metadata": {
        "id": "z3tEumahqmgQ",
        "colab_type": "code",
        "outputId": "d4d526ac-b526-43e9-de47-4f7f51e42cee",
        "colab": {
          "base_uri": "https://localhost:8080/",
          "height": 52
        }
      },
      "source": [
        "count_vect = CountVectorizer(analyzer='word', tokenizer=tokenization)\n",
        "count_vect.fit(df_bjp['SentimentText'])\n",
        "\n",
        "xtrain_count =  count_vect.transform(train_x)\n",
        "xvalid_count =  count_vect.transform(valid_x)"
      ],
      "execution_count": 43,
      "outputs": [
        {
          "output_type": "stream",
          "text": [
            "/usr/local/lib/python3.6/dist-packages/sklearn/feature_extraction/text.py:507: UserWarning: The parameter 'token_pattern' will not be used since 'tokenizer' is not None'\n",
            "  warnings.warn(\"The parameter 'token_pattern' will not be used\"\n"
          ],
          "name": "stderr"
        }
      ]
    },
    {
      "cell_type": "code",
      "metadata": {
        "id": "eafVGX6mfHzh",
        "colab_type": "code",
        "colab": {
          "base_uri": "https://localhost:8080/",
          "height": 52
        },
        "outputId": "d35721d4-19fc-49a3-9f61-044b783efd00"
      },
      "source": [
        "classifier = naive_bayes.MultinomialNB()\n",
        "# classifier = svm.SVC()\n",
        "# classifier = xgboost.XGBClassifier()\n",
        "classifier.fit(xtrain_count, train_y)\n",
        "predictions = classifier.predict(xvalid_count)\n",
        "print(predictions.shape)\n",
        "metrics.accuracy_score(predictions, valid_y)"
      ],
      "execution_count": 30,
      "outputs": [
        {
          "output_type": "stream",
          "text": [
            "(488,)\n"
          ],
          "name": "stdout"
        },
        {
          "output_type": "execute_result",
          "data": {
            "text/plain": [
              "0.8155737704918032"
            ]
          },
          "metadata": {
            "tags": []
          },
          "execution_count": 30
        }
      ]
    },
    {
      "cell_type": "code",
      "metadata": {
        "id": "ZwlqSWe7iF1F",
        "colab_type": "code",
        "colab": {
          "base_uri": "https://localhost:8080/",
          "height": 1000
        },
        "outputId": "8df77522-c861-45b5-e513-e7908890abc3"
      },
      "source": [
        "input_size = xtrain_count.shape[1]\n",
        "input_layer = layers.Input((input_size, ),)\n",
        "hidden_layer1 = layers.Dense(1024, activation=\"relu\")(input_layer)\n",
        "hidden_layer2 = layers.Dense(512, activation=\"relu\")(hidden_layer1)\n",
        "hidden_layer3 = layers.Dense(256, activation=\"relu\")(hidden_layer2)\n",
        "hidden_layer = layers.Dense(128, activation=\"relu\")(hidden_layer3)\n",
        "output_layer = layers.Dense(1, activation=\"sigmoid\")(hidden_layer)\n",
        "classifier = models.Model(inputs = input_layer, outputs = output_layer)\n",
        "classifier.compile(optimizer=optimizers.Adam(), loss='binary_crossentropy')\n",
        "classifier.fit(xtrain_count, train_y,epochs=50)\n",
        "predictions = classifier.predict(xvalid_count)"
      ],
      "execution_count": 44,
      "outputs": [
        {
          "output_type": "stream",
          "text": [
            "Epoch 1/50\n",
            "1464/1464 [==============================] - 3s 2ms/step - loss: 0.5465\n",
            "Epoch 2/50\n",
            "1464/1464 [==============================] - 3s 2ms/step - loss: 0.1851\n",
            "Epoch 3/50\n",
            "1464/1464 [==============================] - 3s 2ms/step - loss: 0.0929\n",
            "Epoch 4/50\n",
            "1464/1464 [==============================] - 3s 2ms/step - loss: 0.0594\n",
            "Epoch 5/50\n",
            "1464/1464 [==============================] - 3s 2ms/step - loss: 0.0513\n",
            "Epoch 6/50\n",
            "1464/1464 [==============================] - 3s 2ms/step - loss: 0.0414\n",
            "Epoch 7/50\n",
            "1464/1464 [==============================] - 3s 2ms/step - loss: 0.0334\n",
            "Epoch 8/50\n",
            "1464/1464 [==============================] - 3s 2ms/step - loss: 0.0364\n",
            "Epoch 9/50\n",
            "1464/1464 [==============================] - 3s 2ms/step - loss: 0.0342\n",
            "Epoch 10/50\n",
            "1464/1464 [==============================] - 3s 2ms/step - loss: 0.0336\n",
            "Epoch 11/50\n",
            "1464/1464 [==============================] - 3s 2ms/step - loss: 0.0344\n",
            "Epoch 12/50\n",
            "1464/1464 [==============================] - 3s 2ms/step - loss: 0.0328\n",
            "Epoch 13/50\n",
            "1464/1464 [==============================] - 3s 2ms/step - loss: 0.0310\n",
            "Epoch 14/50\n",
            "1464/1464 [==============================] - 3s 2ms/step - loss: 0.0307\n",
            "Epoch 15/50\n",
            "1464/1464 [==============================] - 3s 2ms/step - loss: 0.0298\n",
            "Epoch 16/50\n",
            "1464/1464 [==============================] - 3s 2ms/step - loss: 0.0302\n",
            "Epoch 17/50\n",
            "1464/1464 [==============================] - 3s 2ms/step - loss: 0.0313\n",
            "Epoch 18/50\n",
            "1464/1464 [==============================] - 3s 2ms/step - loss: 0.0639\n",
            "Epoch 19/50\n",
            "1464/1464 [==============================] - 3s 2ms/step - loss: 0.0499\n",
            "Epoch 20/50\n",
            "1464/1464 [==============================] - 3s 2ms/step - loss: 0.0378\n",
            "Epoch 21/50\n",
            "1464/1464 [==============================] - 3s 2ms/step - loss: 0.0311\n",
            "Epoch 22/50\n",
            "1464/1464 [==============================] - 3s 2ms/step - loss: 0.0296\n",
            "Epoch 23/50\n",
            "1464/1464 [==============================] - 3s 2ms/step - loss: 0.0299\n",
            "Epoch 24/50\n",
            "1464/1464 [==============================] - 3s 2ms/step - loss: 0.0314\n",
            "Epoch 25/50\n",
            "1464/1464 [==============================] - 3s 2ms/step - loss: 0.0296\n",
            "Epoch 26/50\n",
            "1464/1464 [==============================] - 3s 2ms/step - loss: 0.0300\n",
            "Epoch 27/50\n",
            "1464/1464 [==============================] - 3s 2ms/step - loss: 0.0282\n",
            "Epoch 28/50\n",
            "1464/1464 [==============================] - 3s 2ms/step - loss: 0.0289\n",
            "Epoch 29/50\n",
            "1464/1464 [==============================] - 3s 2ms/step - loss: 0.0286\n",
            "Epoch 30/50\n",
            "1464/1464 [==============================] - 3s 2ms/step - loss: 0.0278\n",
            "Epoch 31/50\n",
            "1464/1464 [==============================] - 3s 2ms/step - loss: 0.0302\n",
            "Epoch 32/50\n",
            "1464/1464 [==============================] - 3s 2ms/step - loss: 0.0285\n",
            "Epoch 33/50\n",
            "1464/1464 [==============================] - 3s 2ms/step - loss: 0.0298\n",
            "Epoch 34/50\n",
            "1464/1464 [==============================] - 3s 2ms/step - loss: 0.0284\n",
            "Epoch 35/50\n",
            "1464/1464 [==============================] - 3s 2ms/step - loss: 0.0282\n",
            "Epoch 36/50\n",
            "1464/1464 [==============================] - 3s 2ms/step - loss: 0.0286\n",
            "Epoch 37/50\n",
            "1464/1464 [==============================] - 3s 2ms/step - loss: 0.0285\n",
            "Epoch 38/50\n",
            "1464/1464 [==============================] - 3s 2ms/step - loss: 0.0267\n",
            "Epoch 39/50\n",
            "1464/1464 [==============================] - 3s 2ms/step - loss: 0.0302\n",
            "Epoch 40/50\n",
            "1464/1464 [==============================] - 3s 2ms/step - loss: 0.0281\n",
            "Epoch 41/50\n",
            "1464/1464 [==============================] - 3s 2ms/step - loss: 0.0286\n",
            "Epoch 42/50\n",
            "1464/1464 [==============================] - 3s 2ms/step - loss: 0.0274\n",
            "Epoch 43/50\n",
            "1464/1464 [==============================] - 3s 2ms/step - loss: 0.0282\n",
            "Epoch 44/50\n",
            "1464/1464 [==============================] - 3s 2ms/step - loss: 0.0274\n",
            "Epoch 45/50\n",
            "1464/1464 [==============================] - 3s 2ms/step - loss: 0.0273\n",
            "Epoch 46/50\n",
            "1464/1464 [==============================] - 3s 2ms/step - loss: 0.0286\n",
            "Epoch 47/50\n",
            "1464/1464 [==============================] - 3s 2ms/step - loss: 0.0282\n",
            "Epoch 48/50\n",
            "1464/1464 [==============================] - 3s 2ms/step - loss: 0.0289\n",
            "Epoch 49/50\n",
            "1464/1464 [==============================] - 3s 2ms/step - loss: 0.0279\n",
            "Epoch 50/50\n",
            "1464/1464 [==============================] - 3s 2ms/step - loss: 0.0268\n"
          ],
          "name": "stdout"
        }
      ]
    },
    {
      "cell_type": "code",
      "metadata": {
        "id": "G88CgmMWoSK-",
        "colab_type": "code",
        "colab": {}
      },
      "source": [
        "predictionf = predictions[:,0] >= 0.5"
      ],
      "execution_count": 0,
      "outputs": []
    },
    {
      "cell_type": "code",
      "metadata": {
        "id": "DGxtsEmYqTop",
        "colab_type": "code",
        "colab": {
          "base_uri": "https://localhost:8080/",
          "height": 34
        },
        "outputId": "f38e200a-609e-4452-bcaf-dea0853b6b29"
      },
      "source": [
        "metrics.accuracy_score(predictionf, valid_y)"
      ],
      "execution_count": 49,
      "outputs": [
        {
          "output_type": "execute_result",
          "data": {
            "text/plain": [
              "0.8381147540983607"
            ]
          },
          "metadata": {
            "tags": []
          },
          "execution_count": 49
        }
      ]
    },
    {
      "cell_type": "code",
      "metadata": {
        "id": "XMaBlXlLrAcb",
        "colab_type": "code",
        "colab": {
          "base_uri": "https://localhost:8080/",
          "height": 34
        },
        "outputId": "8d807d44-4b99-4403-bfac-10a0a55288e7"
      },
      "source": [
        "from sklearn.metrics import f1_score\n",
        "f1_score(valid_y, predictionf)"
      ],
      "execution_count": 50,
      "outputs": [
        {
          "output_type": "execute_result",
          "data": {
            "text/plain": [
              "0.8454011741682974"
            ]
          },
          "metadata": {
            "tags": []
          },
          "execution_count": 50
        }
      ]
    },
    {
      "cell_type": "markdown",
      "metadata": {
        "id": "hXFjaJhNr6ge",
        "colab_type": "text"
      },
      "source": [
        "### Tfidf ngram\n"
      ]
    },
    {
      "cell_type": "code",
      "metadata": {
        "id": "MGdewj4SvQrw",
        "colab_type": "code",
        "colab": {
          "base_uri": "https://localhost:8080/",
          "height": 52
        },
        "outputId": "71cfbe63-c7c8-4bfe-b89d-4e0fd20753e9"
      },
      "source": [
        "tfidf_vect_ngram = TfidfVectorizer(analyzer='word', tokenizer=tokenization, ngram_range=(2,3), max_features=5000)\n",
        "tfidf_vect_ngram.fit(df_bjp['SentimentText'])\n",
        "xtrain_tfidf_ngram =  tfidf_vect_ngram.transform(train_x)\n",
        "xvalid_tfidf_ngram =  tfidf_vect_ngram.transform(valid_x)"
      ],
      "execution_count": 51,
      "outputs": [
        {
          "output_type": "stream",
          "text": [
            "/usr/local/lib/python3.6/dist-packages/sklearn/feature_extraction/text.py:507: UserWarning: The parameter 'token_pattern' will not be used since 'tokenizer' is not None'\n",
            "  warnings.warn(\"The parameter 'token_pattern' will not be used\"\n"
          ],
          "name": "stderr"
        }
      ]
    },
    {
      "cell_type": "code",
      "metadata": {
        "id": "AVNnN0les3yF",
        "colab_type": "code",
        "colab": {
          "base_uri": "https://localhost:8080/",
          "height": 52
        },
        "outputId": "bf43924e-a02c-4074-a01a-9984aa973486"
      },
      "source": [
        "# classifier = naive_bayes.MultinomialNB()\n",
        "classifier = svm.SVC()\n",
        "# classifier = xgboost.XGBClassifier()\n",
        "classifier.fit(xtrain_tfidf_ngram, train_y)\n",
        "predictions = classifier.predict(xvalid_tfidf_ngram)\n",
        "print(predictions.shape)\n",
        "metrics.accuracy_score(predictions, valid_y)"
      ],
      "execution_count": 55,
      "outputs": [
        {
          "output_type": "stream",
          "text": [
            "(488,)\n"
          ],
          "name": "stdout"
        },
        {
          "output_type": "execute_result",
          "data": {
            "text/plain": [
              "0.7930327868852459"
            ]
          },
          "metadata": {
            "tags": []
          },
          "execution_count": 55
        }
      ]
    },
    {
      "cell_type": "code",
      "metadata": {
        "id": "x1dYX99rtBXZ",
        "colab_type": "code",
        "colab": {
          "base_uri": "https://localhost:8080/",
          "height": 1000
        },
        "outputId": "8f61fc04-eb16-476b-ba7e-8295e67d9382"
      },
      "source": [
        "input_size = xtrain_tfidf_ngram.shape[1]\n",
        "input_layer = layers.Input((input_size, ))\n",
        "hidden_layer1 = layers.Dense(1024, activation=\"relu\")(input_layer)\n",
        "hidden_layer2 = layers.Dense(512, activation=\"relu\")(hidden_layer1)\n",
        "hidden_layer3 = layers.Dense(256, activation=\"relu\")(hidden_layer2)\n",
        "hidden_layer = layers.Dense(128, activation=\"relu\")(hidden_layer3)\n",
        "output_layer = layers.Dense(1, activation=\"sigmoid\")(hidden_layer)\n",
        "classifier = models.Model(inputs = input_layer, outputs = output_layer)\n",
        "classifier.compile(optimizer=optimizers.Adam(), loss='binary_crossentropy')\n",
        "classifier.fit(xtrain_tfidf_ngram, train_y,epochs=50)\n",
        "predictions = classifier.predict(xvalid_tfidf_ngram)"
      ],
      "execution_count": 57,
      "outputs": [
        {
          "output_type": "stream",
          "text": [
            "Epoch 1/50\n",
            "1464/1464 [==============================] - 4s 3ms/step - loss: 0.6068\n",
            "Epoch 2/50\n",
            "1464/1464 [==============================] - 4s 2ms/step - loss: 0.2454\n",
            "Epoch 3/50\n",
            "1464/1464 [==============================] - 4s 2ms/step - loss: 0.1784\n",
            "Epoch 4/50\n",
            "1464/1464 [==============================] - 3s 2ms/step - loss: 0.1647\n",
            "Epoch 5/50\n",
            "1464/1464 [==============================] - 4s 2ms/step - loss: 0.1606\n",
            "Epoch 6/50\n",
            "1464/1464 [==============================] - 3s 2ms/step - loss: 0.1611\n",
            "Epoch 7/50\n",
            "1464/1464 [==============================] - 3s 2ms/step - loss: 0.1578\n",
            "Epoch 8/50\n",
            "1464/1464 [==============================] - 4s 2ms/step - loss: 0.1636\n",
            "Epoch 9/50\n",
            "1464/1464 [==============================] - 4s 2ms/step - loss: 0.1556\n",
            "Epoch 10/50\n",
            "1464/1464 [==============================] - 4s 2ms/step - loss: 0.1550\n",
            "Epoch 11/50\n",
            "1464/1464 [==============================] - 4s 2ms/step - loss: 0.1560\n",
            "Epoch 12/50\n",
            "1464/1464 [==============================] - 4s 2ms/step - loss: 0.1546\n",
            "Epoch 13/50\n",
            "1464/1464 [==============================] - 4s 2ms/step - loss: 0.1543\n",
            "Epoch 14/50\n",
            "1464/1464 [==============================] - 4s 2ms/step - loss: 0.1544\n",
            "Epoch 15/50\n",
            "1464/1464 [==============================] - 4s 2ms/step - loss: 0.1538\n",
            "Epoch 16/50\n",
            "1464/1464 [==============================] - 4s 2ms/step - loss: 0.1540\n",
            "Epoch 17/50\n",
            "1464/1464 [==============================] - 4s 2ms/step - loss: 0.1549\n",
            "Epoch 18/50\n",
            "1464/1464 [==============================] - 4s 2ms/step - loss: 0.1537\n",
            "Epoch 19/50\n",
            "1464/1464 [==============================] - 4s 2ms/step - loss: 0.1539\n",
            "Epoch 20/50\n",
            "1464/1464 [==============================] - 4s 2ms/step - loss: 0.1536\n",
            "Epoch 21/50\n",
            "1464/1464 [==============================] - 4s 2ms/step - loss: 0.1543\n",
            "Epoch 22/50\n",
            "1464/1464 [==============================] - 4s 2ms/step - loss: 0.1535\n",
            "Epoch 23/50\n",
            "1464/1464 [==============================] - 4s 2ms/step - loss: 0.1532\n",
            "Epoch 24/50\n",
            "1464/1464 [==============================] - 4s 2ms/step - loss: 0.1534\n",
            "Epoch 25/50\n",
            "1464/1464 [==============================] - 4s 2ms/step - loss: 0.1539\n",
            "Epoch 26/50\n",
            "1464/1464 [==============================] - 4s 2ms/step - loss: 0.1538\n",
            "Epoch 27/50\n",
            "1464/1464 [==============================] - 4s 2ms/step - loss: 0.1532\n",
            "Epoch 28/50\n",
            "1464/1464 [==============================] - 4s 2ms/step - loss: 0.1536\n",
            "Epoch 29/50\n",
            "1464/1464 [==============================] - 4s 2ms/step - loss: 0.1534\n",
            "Epoch 30/50\n",
            "1464/1464 [==============================] - 4s 2ms/step - loss: 0.1531\n",
            "Epoch 31/50\n",
            "1464/1464 [==============================] - 4s 2ms/step - loss: 0.1537\n",
            "Epoch 32/50\n",
            "1464/1464 [==============================] - 4s 2ms/step - loss: 0.1536\n",
            "Epoch 33/50\n",
            "1464/1464 [==============================] - 4s 2ms/step - loss: 0.1549\n",
            "Epoch 34/50\n",
            "1464/1464 [==============================] - 4s 2ms/step - loss: 0.1539\n",
            "Epoch 35/50\n",
            "1464/1464 [==============================] - 4s 2ms/step - loss: 0.1533\n",
            "Epoch 36/50\n",
            "1464/1464 [==============================] - 4s 2ms/step - loss: 0.1535\n",
            "Epoch 37/50\n",
            "1464/1464 [==============================] - 4s 2ms/step - loss: 0.1532\n",
            "Epoch 38/50\n",
            "1464/1464 [==============================] - 4s 2ms/step - loss: 0.1538\n",
            "Epoch 39/50\n",
            "1464/1464 [==============================] - 4s 2ms/step - loss: 0.1533\n",
            "Epoch 40/50\n",
            "1464/1464 [==============================] - 4s 2ms/step - loss: 0.1538\n",
            "Epoch 41/50\n",
            "1464/1464 [==============================] - 3s 2ms/step - loss: 0.1539\n",
            "Epoch 42/50\n",
            "1464/1464 [==============================] - 3s 2ms/step - loss: 0.1533\n",
            "Epoch 43/50\n",
            "1464/1464 [==============================] - 4s 2ms/step - loss: 0.1534\n",
            "Epoch 44/50\n",
            "1464/1464 [==============================] - 4s 2ms/step - loss: 0.1533\n",
            "Epoch 45/50\n",
            "1464/1464 [==============================] - 4s 2ms/step - loss: 0.1534\n",
            "Epoch 46/50\n",
            "1464/1464 [==============================] - 4s 2ms/step - loss: 0.1528\n",
            "Epoch 47/50\n",
            "1464/1464 [==============================] - 4s 2ms/step - loss: 0.1530\n",
            "Epoch 48/50\n",
            "1464/1464 [==============================] - 4s 2ms/step - loss: 0.1537\n",
            "Epoch 49/50\n",
            "1464/1464 [==============================] - 4s 2ms/step - loss: 0.1534\n",
            "Epoch 50/50\n",
            "1464/1464 [==============================] - 3s 2ms/step - loss: 0.1529\n"
          ],
          "name": "stdout"
        }
      ]
    },
    {
      "cell_type": "code",
      "metadata": {
        "id": "8qugS4nFtYs4",
        "colab_type": "code",
        "colab": {
          "base_uri": "https://localhost:8080/",
          "height": 34
        },
        "outputId": "ac23a55a-7dd6-494a-c220-155d8f63d152"
      },
      "source": [
        "predictionf = predictions[:,0] >= 0.5\n",
        "metrics.accuracy_score(predictionf, valid_y)"
      ],
      "execution_count": 58,
      "outputs": [
        {
          "output_type": "execute_result",
          "data": {
            "text/plain": [
              "0.7745901639344263"
            ]
          },
          "metadata": {
            "tags": []
          },
          "execution_count": 58
        }
      ]
    },
    {
      "cell_type": "code",
      "metadata": {
        "id": "Js-GiV3iuhpz",
        "colab_type": "code",
        "colab": {
          "base_uri": "https://localhost:8080/",
          "height": 34
        },
        "outputId": "008ee50c-0bfb-46c7-fd8c-a18a47a7ce9c"
      },
      "source": [
        "from sklearn.metrics import f1_score\n",
        "f1_score(valid_y, predictionf)"
      ],
      "execution_count": 59,
      "outputs": [
        {
          "output_type": "execute_result",
          "data": {
            "text/plain": [
              "0.808362369337979"
            ]
          },
          "metadata": {
            "tags": []
          },
          "execution_count": 59
        }
      ]
    },
    {
      "cell_type": "code",
      "metadata": {
        "id": "WJ9enUfdujU6",
        "colab_type": "code",
        "colab": {}
      },
      "source": [
        ""
      ],
      "execution_count": 0,
      "outputs": []
    }
  ],
  "metadata": {
    "colab": {
      "name": "Untitled2.ipynb",
      "provenance": [],
      "toc_visible": true
    },
    "kernelspec": {
      "name": "python3",
      "display_name": "Python 3"
    }
  },
  "nbformat": 4,
  "nbformat_minor": 0
}